{
 "cells": [
  {
   "cell_type": "code",
   "execution_count": 2,
   "metadata": {},
   "outputs": [],
   "source": [
    "import numpy as np\n",
    "import missingno as mn\n",
    "import pandas as pd\n",
    "\n",
    "from sklearn.model_selection import train_test_split, cross_val_score\n",
    "from sklearn.linear_model import LogisticRegression"
   ]
  },
  {
   "cell_type": "code",
   "execution_count": 3,
   "metadata": {},
   "outputs": [],
   "source": [
    "# data = pd.read_csv('./Data/Training_dataset_Small.csv')\n",
    "data = pd.read_csv('./Data/Training_dataset_Original.csv', low_memory=False)"
   ]
  },
  {
   "cell_type": "code",
   "execution_count": 4,
   "metadata": {},
   "outputs": [
    {
     "data": {
      "text/html": [
       "<div>\n",
       "<style scoped>\n",
       "    .dataframe tbody tr th:only-of-type {\n",
       "        vertical-align: middle;\n",
       "    }\n",
       "\n",
       "    .dataframe tbody tr th {\n",
       "        vertical-align: top;\n",
       "    }\n",
       "\n",
       "    .dataframe thead th {\n",
       "        text-align: right;\n",
       "    }\n",
       "</style>\n",
       "<table border=\"1\" class=\"dataframe\">\n",
       "  <thead>\n",
       "    <tr style=\"text-align: right;\">\n",
       "      <th></th>\n",
       "      <th>application_key</th>\n",
       "      <th>mvar1</th>\n",
       "      <th>mvar2</th>\n",
       "      <th>mvar3</th>\n",
       "      <th>mvar4</th>\n",
       "      <th>mvar5</th>\n",
       "      <th>mvar6</th>\n",
       "      <th>mvar7</th>\n",
       "      <th>mvar8</th>\n",
       "      <th>mvar9</th>\n",
       "      <th>...</th>\n",
       "      <th>mvar39</th>\n",
       "      <th>mvar40</th>\n",
       "      <th>mvar41</th>\n",
       "      <th>mvar42</th>\n",
       "      <th>mvar43</th>\n",
       "      <th>mvar44</th>\n",
       "      <th>mvar45</th>\n",
       "      <th>mvar46</th>\n",
       "      <th>mvar47</th>\n",
       "      <th>default_ind</th>\n",
       "    </tr>\n",
       "  </thead>\n",
       "  <tbody>\n",
       "    <tr>\n",
       "      <th>0</th>\n",
       "      <td>230032</td>\n",
       "      <td>1696</td>\n",
       "      <td>1.6541</td>\n",
       "      <td>0.000</td>\n",
       "      <td>0.0</td>\n",
       "      <td>0.0</td>\n",
       "      <td>0</td>\n",
       "      <td>6015</td>\n",
       "      <td>322</td>\n",
       "      <td>40369</td>\n",
       "      <td>...</td>\n",
       "      <td>1</td>\n",
       "      <td>73.78</td>\n",
       "      <td>82.547</td>\n",
       "      <td>0.08696</td>\n",
       "      <td>10</td>\n",
       "      <td>0.63899</td>\n",
       "      <td>na</td>\n",
       "      <td>0</td>\n",
       "      <td>C</td>\n",
       "      <td>0</td>\n",
       "    </tr>\n",
       "    <tr>\n",
       "      <th>1</th>\n",
       "      <td>230033</td>\n",
       "      <td>1846</td>\n",
       "      <td>0.8095</td>\n",
       "      <td>0.000</td>\n",
       "      <td>0.0</td>\n",
       "      <td>0.0</td>\n",
       "      <td>102</td>\n",
       "      <td>7532</td>\n",
       "      <td>3171</td>\n",
       "      <td>18234</td>\n",
       "      <td>...</td>\n",
       "      <td>0</td>\n",
       "      <td>99.129</td>\n",
       "      <td>missing</td>\n",
       "      <td>0</td>\n",
       "      <td>13</td>\n",
       "      <td>0.63836</td>\n",
       "      <td>na</td>\n",
       "      <td>na</td>\n",
       "      <td>L</td>\n",
       "      <td>1</td>\n",
       "    </tr>\n",
       "    <tr>\n",
       "      <th>2</th>\n",
       "      <td>230034</td>\n",
       "      <td>1745</td>\n",
       "      <td>0.4001</td>\n",
       "      <td>0.000</td>\n",
       "      <td>0.0</td>\n",
       "      <td>0.0</td>\n",
       "      <td>missing</td>\n",
       "      <td>2536</td>\n",
       "      <td>missing</td>\n",
       "      <td>missing</td>\n",
       "      <td>...</td>\n",
       "      <td>0</td>\n",
       "      <td>missing</td>\n",
       "      <td>29.29</td>\n",
       "      <td>0</td>\n",
       "      <td>1</td>\n",
       "      <td>1.00000</td>\n",
       "      <td>na</td>\n",
       "      <td>0</td>\n",
       "      <td>C</td>\n",
       "      <td>1</td>\n",
       "    </tr>\n",
       "    <tr>\n",
       "      <th>3</th>\n",
       "      <td>230035</td>\n",
       "      <td>1739</td>\n",
       "      <td>0.2193</td>\n",
       "      <td>0.000</td>\n",
       "      <td>0.0</td>\n",
       "      <td>0.0</td>\n",
       "      <td>1982</td>\n",
       "      <td>26440</td>\n",
       "      <td>4955</td>\n",
       "      <td>20316</td>\n",
       "      <td>...</td>\n",
       "      <td>0</td>\n",
       "      <td>96.272</td>\n",
       "      <td>missing</td>\n",
       "      <td>0.15385</td>\n",
       "      <td>3</td>\n",
       "      <td>0.53241</td>\n",
       "      <td>0</td>\n",
       "      <td>0</td>\n",
       "      <td>L</td>\n",
       "      <td>0</td>\n",
       "    </tr>\n",
       "    <tr>\n",
       "      <th>4</th>\n",
       "      <td>230036</td>\n",
       "      <td>1787</td>\n",
       "      <td>0.0118</td>\n",
       "      <td>0.225</td>\n",
       "      <td>0.0</td>\n",
       "      <td>0.0</td>\n",
       "      <td>5451</td>\n",
       "      <td>5494</td>\n",
       "      <td>5494</td>\n",
       "      <td>7987</td>\n",
       "      <td>...</td>\n",
       "      <td>0</td>\n",
       "      <td>115.019</td>\n",
       "      <td>missing</td>\n",
       "      <td>0</td>\n",
       "      <td>1</td>\n",
       "      <td>0.92665</td>\n",
       "      <td>na</td>\n",
       "      <td>na</td>\n",
       "      <td>L</td>\n",
       "      <td>0</td>\n",
       "    </tr>\n",
       "  </tbody>\n",
       "</table>\n",
       "<p>5 rows × 49 columns</p>\n",
       "</div>"
      ],
      "text/plain": [
       "   application_key mvar1   mvar2  mvar3  mvar4  mvar5    mvar6  mvar7  \\\n",
       "0           230032  1696  1.6541  0.000    0.0    0.0        0   6015   \n",
       "1           230033  1846  0.8095  0.000    0.0    0.0      102   7532   \n",
       "2           230034  1745  0.4001  0.000    0.0    0.0  missing   2536   \n",
       "3           230035  1739  0.2193  0.000    0.0    0.0     1982  26440   \n",
       "4           230036  1787  0.0118  0.225    0.0    0.0     5451   5494   \n",
       "\n",
       "     mvar8    mvar9     ...     mvar39   mvar40   mvar41   mvar42  mvar43  \\\n",
       "0      322    40369     ...          1    73.78   82.547  0.08696      10   \n",
       "1     3171    18234     ...          0   99.129  missing        0      13   \n",
       "2  missing  missing     ...          0  missing    29.29        0       1   \n",
       "3     4955    20316     ...          0   96.272  missing  0.15385       3   \n",
       "4     5494     7987     ...          0  115.019  missing        0       1   \n",
       "\n",
       "    mvar44 mvar45 mvar46 mvar47 default_ind  \n",
       "0  0.63899     na      0      C           0  \n",
       "1  0.63836     na     na      L           1  \n",
       "2  1.00000     na      0      C           1  \n",
       "3  0.53241      0      0      L           0  \n",
       "4  0.92665     na     na      L           0  \n",
       "\n",
       "[5 rows x 49 columns]"
      ]
     },
     "execution_count": 4,
     "metadata": {},
     "output_type": "execute_result"
    }
   ],
   "source": [
    "data.head()"
   ]
  },
  {
   "cell_type": "code",
   "execution_count": 5,
   "metadata": {},
   "outputs": [],
   "source": [
    "data = data.replace(\"nan\", np.nan)\n",
    "data = data.replace(\"missing\", np.nan)\n",
    "data = data.replace(\"na\", np.nan)"
   ]
  },
  {
   "cell_type": "code",
   "execution_count": 6,
   "metadata": {},
   "outputs": [],
   "source": [
    "def draw_missing_data_table(df):\n",
    "    total = df.isnull().sum().sort_values(ascending=False)\n",
    "    percent = (df.isnull().sum()/df.isnull().count()).sort_values(ascending=False)\n",
    "    missing_data = pd.concat([total, percent], axis=1, keys=['Total', 'Percent'])\n",
    "    return missing_data"
   ]
  },
  {
   "cell_type": "code",
   "execution_count": 7,
   "metadata": {},
   "outputs": [
    {
     "data": {
      "text/html": [
       "<div>\n",
       "<style scoped>\n",
       "    .dataframe tbody tr th:only-of-type {\n",
       "        vertical-align: middle;\n",
       "    }\n",
       "\n",
       "    .dataframe tbody tr th {\n",
       "        vertical-align: top;\n",
       "    }\n",
       "\n",
       "    .dataframe thead th {\n",
       "        text-align: right;\n",
       "    }\n",
       "</style>\n",
       "<table border=\"1\" class=\"dataframe\">\n",
       "  <thead>\n",
       "    <tr style=\"text-align: right;\">\n",
       "      <th></th>\n",
       "      <th>Total</th>\n",
       "      <th>Percent</th>\n",
       "    </tr>\n",
       "  </thead>\n",
       "  <tbody>\n",
       "    <tr>\n",
       "      <th>mvar40</th>\n",
       "      <td>62557</td>\n",
       "      <td>0.781963</td>\n",
       "    </tr>\n",
       "    <tr>\n",
       "      <th>mvar31</th>\n",
       "      <td>56218</td>\n",
       "      <td>0.702725</td>\n",
       "    </tr>\n",
       "    <tr>\n",
       "      <th>mvar41</th>\n",
       "      <td>54578</td>\n",
       "      <td>0.682225</td>\n",
       "    </tr>\n",
       "    <tr>\n",
       "      <th>mvar45</th>\n",
       "      <td>44855</td>\n",
       "      <td>0.560688</td>\n",
       "    </tr>\n",
       "    <tr>\n",
       "      <th>mvar11</th>\n",
       "      <td>44819</td>\n",
       "      <td>0.560238</td>\n",
       "    </tr>\n",
       "    <tr>\n",
       "      <th>mvar23</th>\n",
       "      <td>40248</td>\n",
       "      <td>0.503100</td>\n",
       "    </tr>\n",
       "    <tr>\n",
       "      <th>mvar30</th>\n",
       "      <td>36417</td>\n",
       "      <td>0.455213</td>\n",
       "    </tr>\n",
       "    <tr>\n",
       "      <th>mvar35</th>\n",
       "      <td>33014</td>\n",
       "      <td>0.412675</td>\n",
       "    </tr>\n",
       "    <tr>\n",
       "      <th>mvar15</th>\n",
       "      <td>32067</td>\n",
       "      <td>0.400838</td>\n",
       "    </tr>\n",
       "    <tr>\n",
       "      <th>mvar22</th>\n",
       "      <td>29124</td>\n",
       "      <td>0.364050</td>\n",
       "    </tr>\n",
       "    <tr>\n",
       "      <th>mvar46</th>\n",
       "      <td>22789</td>\n",
       "      <td>0.284863</td>\n",
       "    </tr>\n",
       "    <tr>\n",
       "      <th>mvar21</th>\n",
       "      <td>22561</td>\n",
       "      <td>0.282012</td>\n",
       "    </tr>\n",
       "  </tbody>\n",
       "</table>\n",
       "</div>"
      ],
      "text/plain": [
       "        Total   Percent\n",
       "mvar40  62557  0.781963\n",
       "mvar31  56218  0.702725\n",
       "mvar41  54578  0.682225\n",
       "mvar45  44855  0.560688\n",
       "mvar11  44819  0.560238\n",
       "mvar23  40248  0.503100\n",
       "mvar30  36417  0.455213\n",
       "mvar35  33014  0.412675\n",
       "mvar15  32067  0.400838\n",
       "mvar22  29124  0.364050\n",
       "mvar46  22789  0.284863\n",
       "mvar21  22561  0.282012"
      ]
     },
     "execution_count": 7,
     "metadata": {},
     "output_type": "execute_result"
    }
   ],
   "source": [
    "(draw_missing_data_table(data))[:12]"
   ]
  },
  {
   "cell_type": "code",
   "execution_count": 8,
   "metadata": {},
   "outputs": [],
   "source": [
    "def refine(data):\n",
    "    data.drop('mvar40', axis=1, inplace=True)\n",
    "    data.drop('mvar31', axis=1, inplace=True)\n",
    "    data.drop('mvar41', axis=1, inplace=True)\n",
    "    data.drop('mvar11', axis=1, inplace=True)\n",
    "    data.drop('mvar23', axis=1, inplace=True)\n",
    "    data.drop('mvar45', axis=1, inplace=True)\n",
    "    data.drop('mvar30', axis=1, inplace=True)\n",
    "    data.drop('mvar35', axis=1, inplace=True)\n",
    "    data.drop('mvar15', axis=1, inplace=True)\n",
    "    data.drop('mvar22', axis=1, inplace=True)\n",
    "    return data"
   ]
  },
  {
   "cell_type": "code",
   "execution_count": 9,
   "metadata": {},
   "outputs": [],
   "source": [
    "def preprocess(data):\n",
    "    data = refine(data)\n",
    "#     mn.dendrogram(data)\n",
    "#     mn.heatmap(data)\n",
    "#     mn.bar(data)\n",
    "#     mn.matrix(data)\n",
    "    # data.mean(skipna = True)\n",
    "    # data['mvar1'].mean(skipna = True)\n",
    "    # data.median()\n",
    "    data = data.fillna(data.median())\n",
    "    data['mvar47'] = data['mvar47'] == 'C'\n",
    "#     data['mvar47'].head()\n",
    "    return data"
   ]
  },
  {
   "cell_type": "code",
   "execution_count": 10,
   "metadata": {},
   "outputs": [],
   "source": [
    "data = preprocess(data)"
   ]
  },
  {
   "cell_type": "code",
   "execution_count": 11,
   "metadata": {},
   "outputs": [],
   "source": [
    "X = data[data.loc[:, data.columns != 'default_ind'].columns]\n",
    "Y = data['default_ind']\n",
    "X_train, X_test, Y_train, Y_test = train_test_split(X, Y, test_size=.2, random_state=1)"
   ]
  },
  {
   "cell_type": "code",
   "execution_count": 12,
   "metadata": {},
   "outputs": [
    {
     "name": "stdout",
     "output_type": "stream",
     "text": [
      "(64000, 38)\n",
      "(16000, 38)\n",
      "(64000,)\n",
      "(16000,)\n"
     ]
    }
   ],
   "source": [
    "print(X_train.shape)\n",
    "print(X_test.shape)\n",
    "print(Y_train.shape)\n",
    "print(Y_test.shape)"
   ]
  },
  {
   "cell_type": "code",
   "execution_count": 13,
   "metadata": {},
   "outputs": [
    {
     "name": "stdout",
     "output_type": "stream",
     "text": [
      "       application_key mvar1   mvar2  mvar3  mvar4  mvar5 mvar6  mvar7  mvar8  \\\n",
      "72812           302844  1683  0.1734  9.594    0.0    0.0   295  23253    295   \n",
      "20652           250684  1646  1.6297  8.687    0.0    0.0     0     53     53   \n",
      "17356           247388  1892  0.1234  0.000    0.0    0.0  4955  18777  18777   \n",
      "56329           286361  1713  0.1294  0.000    0.0    0.0   297    383   2478   \n",
      "12257           242289  1861  0.6801  0.000    0.0    0.0  1774   2167   2167   \n",
      "\n",
      "       mvar9   ...   mvar34 mvar36 mvar37  mvar38 mvar39 mvar42 mvar43  \\\n",
      "72812   9088   ...        0      8      4       2      0    0.5      3   \n",
      "20652   9708   ...        0     15      0       7      0   0.25     14   \n",
      "17356  57490   ...        0      2      2       3      0      0      3   \n",
      "56329  14171   ...        0      1      3       1      0    0.2      1   \n",
      "12257   2478   ...        0      1      0       1      0      0      2   \n",
      "\n",
      "        mvar44 mvar46  mvar47  \n",
      "72812  0.54001      0   False  \n",
      "20652  0.32980      0    True  \n",
      "17356  0.77926      0   False  \n",
      "56329  1.00000      0    True  \n",
      "12257  0.94170      0    True  \n",
      "\n",
      "[5 rows x 38 columns]\n"
     ]
    }
   ],
   "source": [
    "print(X_train.head())"
   ]
  },
  {
   "cell_type": "code",
   "execution_count": 14,
   "metadata": {},
   "outputs": [
    {
     "name": "stderr",
     "output_type": "stream",
     "text": [
      "/home/epsilon/.virtualenvs/DATA/lib/python3.5/site-packages/sklearn/linear_model/logistic.py:432: FutureWarning: Default solver will be changed to 'lbfgs' in 0.22. Specify a solver to silence this warning.\n",
      "  FutureWarning)\n"
     ]
    },
    {
     "name": "stdout",
     "output_type": "stream",
     "text": [
      "Done\n"
     ]
    }
   ],
   "source": [
    "lr = LogisticRegression(solver='warn', max_iter = 100)\n",
    "lr.fit(X_train, Y_train)\n",
    "print(\"Done\")"
   ]
  },
  {
   "cell_type": "code",
   "execution_count": 15,
   "metadata": {},
   "outputs": [
    {
     "name": "stderr",
     "output_type": "stream",
     "text": [
      "/home/epsilon/.virtualenvs/DATA/lib/python3.5/site-packages/sklearn/linear_model/logistic.py:432: FutureWarning: Default solver will be changed to 'lbfgs' in 0.22. Specify a solver to silence this warning.\n",
      "  FutureWarning)\n",
      "/home/epsilon/.virtualenvs/DATA/lib/python3.5/site-packages/sklearn/linear_model/logistic.py:432: FutureWarning: Default solver will be changed to 'lbfgs' in 0.22. Specify a solver to silence this warning.\n",
      "  FutureWarning)\n",
      "/home/epsilon/.virtualenvs/DATA/lib/python3.5/site-packages/sklearn/svm/base.py:922: ConvergenceWarning: Liblinear failed to converge, increase the number of iterations.\n",
      "  \"the number of iterations.\", ConvergenceWarning)\n",
      "/home/epsilon/.virtualenvs/DATA/lib/python3.5/site-packages/sklearn/linear_model/logistic.py:432: FutureWarning: Default solver will be changed to 'lbfgs' in 0.22. Specify a solver to silence this warning.\n",
      "  FutureWarning)\n",
      "/home/epsilon/.virtualenvs/DATA/lib/python3.5/site-packages/sklearn/linear_model/logistic.py:432: FutureWarning: Default solver will be changed to 'lbfgs' in 0.22. Specify a solver to silence this warning.\n",
      "  FutureWarning)\n",
      "/home/epsilon/.virtualenvs/DATA/lib/python3.5/site-packages/sklearn/linear_model/logistic.py:432: FutureWarning: Default solver will be changed to 'lbfgs' in 0.22. Specify a solver to silence this warning.\n",
      "  FutureWarning)\n",
      "/home/epsilon/.virtualenvs/DATA/lib/python3.5/site-packages/sklearn/linear_model/logistic.py:432: FutureWarning: Default solver will be changed to 'lbfgs' in 0.22. Specify a solver to silence this warning.\n",
      "  FutureWarning)\n",
      "/home/epsilon/.virtualenvs/DATA/lib/python3.5/site-packages/sklearn/linear_model/logistic.py:432: FutureWarning: Default solver will be changed to 'lbfgs' in 0.22. Specify a solver to silence this warning.\n",
      "  FutureWarning)\n",
      "/home/epsilon/.virtualenvs/DATA/lib/python3.5/site-packages/sklearn/linear_model/logistic.py:432: FutureWarning: Default solver will be changed to 'lbfgs' in 0.22. Specify a solver to silence this warning.\n",
      "  FutureWarning)\n",
      "/home/epsilon/.virtualenvs/DATA/lib/python3.5/site-packages/sklearn/linear_model/logistic.py:432: FutureWarning: Default solver will be changed to 'lbfgs' in 0.22. Specify a solver to silence this warning.\n",
      "  FutureWarning)\n",
      "/home/epsilon/.virtualenvs/DATA/lib/python3.5/site-packages/sklearn/linear_model/logistic.py:432: FutureWarning: Default solver will be changed to 'lbfgs' in 0.22. Specify a solver to silence this warning.\n",
      "  FutureWarning)\n"
     ]
    },
    {
     "name": "stdout",
     "output_type": "stream",
     "text": [
      "CV accuracy: 0.772 +/- 0.004\n"
     ]
    }
   ],
   "source": [
    "scores = cross_val_score(lr, X_train, Y_train, cv=10)\n",
    "print('CV accuracy: %.3f +/- %.3f' % (np.mean(scores), np.std(scores)))"
   ]
  },
  {
   "cell_type": "code",
   "execution_count": 16,
   "metadata": {},
   "outputs": [
    {
     "name": "stderr",
     "output_type": "stream",
     "text": [
      "/home/epsilon/.virtualenvs/DATA/lib/python3.5/site-packages/sklearn/linear_model/logistic.py:432: FutureWarning: Default solver will be changed to 'lbfgs' in 0.22. Specify a solver to silence this warning.\n",
      "  FutureWarning)\n",
      "/home/epsilon/.virtualenvs/DATA/lib/python3.5/site-packages/sklearn/linear_model/logistic.py:432: FutureWarning: Default solver will be changed to 'lbfgs' in 0.22. Specify a solver to silence this warning.\n",
      "  FutureWarning)\n",
      "/home/epsilon/.virtualenvs/DATA/lib/python3.5/site-packages/sklearn/linear_model/logistic.py:432: FutureWarning: Default solver will be changed to 'lbfgs' in 0.22. Specify a solver to silence this warning.\n",
      "  FutureWarning)\n",
      "/home/epsilon/.virtualenvs/DATA/lib/python3.5/site-packages/sklearn/linear_model/logistic.py:432: FutureWarning: Default solver will be changed to 'lbfgs' in 0.22. Specify a solver to silence this warning.\n",
      "  FutureWarning)\n",
      "/home/epsilon/.virtualenvs/DATA/lib/python3.5/site-packages/sklearn/linear_model/logistic.py:432: FutureWarning: Default solver will be changed to 'lbfgs' in 0.22. Specify a solver to silence this warning.\n",
      "  FutureWarning)\n",
      "/home/epsilon/.virtualenvs/DATA/lib/python3.5/site-packages/sklearn/linear_model/logistic.py:432: FutureWarning: Default solver will be changed to 'lbfgs' in 0.22. Specify a solver to silence this warning.\n",
      "  FutureWarning)\n",
      "/home/epsilon/.virtualenvs/DATA/lib/python3.5/site-packages/sklearn/linear_model/logistic.py:432: FutureWarning: Default solver will be changed to 'lbfgs' in 0.22. Specify a solver to silence this warning.\n",
      "  FutureWarning)\n",
      "/home/epsilon/.virtualenvs/DATA/lib/python3.5/site-packages/sklearn/linear_model/logistic.py:432: FutureWarning: Default solver will be changed to 'lbfgs' in 0.22. Specify a solver to silence this warning.\n",
      "  FutureWarning)\n",
      "/home/epsilon/.virtualenvs/DATA/lib/python3.5/site-packages/sklearn/svm/base.py:922: ConvergenceWarning: Liblinear failed to converge, increase the number of iterations.\n",
      "  \"the number of iterations.\", ConvergenceWarning)\n",
      "/home/epsilon/.virtualenvs/DATA/lib/python3.5/site-packages/sklearn/linear_model/logistic.py:432: FutureWarning: Default solver will be changed to 'lbfgs' in 0.22. Specify a solver to silence this warning.\n",
      "  FutureWarning)\n",
      "/home/epsilon/.virtualenvs/DATA/lib/python3.5/site-packages/sklearn/linear_model/logistic.py:432: FutureWarning: Default solver will be changed to 'lbfgs' in 0.22. Specify a solver to silence this warning.\n",
      "  FutureWarning)\n"
     ]
    },
    {
     "name": "stdout",
     "output_type": "stream",
     "text": [
      "CV accuracy: 0.766 +/- 0.007\n"
     ]
    },
    {
     "name": "stderr",
     "output_type": "stream",
     "text": [
      "/home/epsilon/.virtualenvs/DATA/lib/python3.5/site-packages/sklearn/svm/base.py:922: ConvergenceWarning: Liblinear failed to converge, increase the number of iterations.\n",
      "  \"the number of iterations.\", ConvergenceWarning)\n"
     ]
    }
   ],
   "source": [
    "scores = cross_val_score(lr, X_test, Y_test, cv=10)\n",
    "print('CV accuracy: %.3f +/- %.3f' % (np.mean(scores), np.std(scores)))"
   ]
  },
  {
   "cell_type": "code",
   "execution_count": 270,
   "metadata": {},
   "outputs": [],
   "source": [
    "# np.set_printoptions(threshold=np.inf)"
   ]
  },
  {
   "cell_type": "code",
   "execution_count": 397,
   "metadata": {},
   "outputs": [],
   "source": [
    "# type(predict)\n",
    "# X_test.head()"
   ]
  },
  {
   "cell_type": "code",
   "execution_count": 17,
   "metadata": {},
   "outputs": [],
   "source": [
    "lb = pd.read_csv('./Data/Leaderboard_dataset.csv', low_memory=False)"
   ]
  },
  {
   "cell_type": "code",
   "execution_count": 18,
   "metadata": {},
   "outputs": [],
   "source": [
    "lb = lb.replace(\"nan\", np.nan)\n",
    "lb = lb.replace(\"missing\", np.nan)\n",
    "lb = lb.replace(\"na\", np.nan)"
   ]
  },
  {
   "cell_type": "code",
   "execution_count": 19,
   "metadata": {},
   "outputs": [
    {
     "name": "stdout",
     "output_type": "stream",
     "text": [
      "(25000, 48)\n"
     ]
    }
   ],
   "source": [
    "print(lb.shape)"
   ]
  },
  {
   "cell_type": "code",
   "execution_count": 20,
   "metadata": {},
   "outputs": [],
   "source": [
    "lb = preprocess(lb)\n",
    "predict = lr.predict(lb)"
   ]
  },
  {
   "cell_type": "code",
   "execution_count": 21,
   "metadata": {},
   "outputs": [
    {
     "name": "stdout",
     "output_type": "stream",
     "text": [
      "(25000, 1)\n"
     ]
    }
   ],
   "source": [
    "predict = pd.DataFrame(predict)\n",
    "# print(predict.head())\n",
    "print(predict.shape)"
   ]
  },
  {
   "cell_type": "code",
   "execution_count": 22,
   "metadata": {},
   "outputs": [
    {
     "name": "stdout",
     "output_type": "stream",
     "text": [
      "       0\n",
      "0      0\n",
      "1      0\n",
      "2      0\n",
      "3      1\n",
      "4      0\n",
      "5      0\n",
      "6      0\n",
      "7      0\n",
      "8      0\n",
      "9      0\n",
      "10     0\n",
      "11     1\n",
      "12     0\n",
      "13     1\n",
      "14     0\n",
      "15     1\n",
      "16     0\n",
      "17     0\n",
      "18     0\n",
      "19     0\n",
      "20     0\n",
      "21     0\n",
      "22     0\n",
      "23     1\n",
      "24     1\n",
      "25     0\n",
      "26     0\n",
      "27     0\n",
      "28     1\n",
      "29     0\n",
      "...   ..\n",
      "24970  1\n",
      "24971  0\n",
      "24972  1\n",
      "24973  1\n",
      "24974  1\n",
      "24975  0\n",
      "24976  0\n",
      "24977  0\n",
      "24978  1\n",
      "24979  1\n",
      "24980  0\n",
      "24981  1\n",
      "24982  1\n",
      "24983  0\n",
      "24984  0\n",
      "24985  0\n",
      "24986  1\n",
      "24987  1\n",
      "24988  1\n",
      "24989  1\n",
      "24990  1\n",
      "24991  0\n",
      "24992  1\n",
      "24993  1\n",
      "24994  0\n",
      "24995  0\n",
      "24996  0\n",
      "24997  1\n",
      "24998  0\n",
      "24999  0\n",
      "\n",
      "[25000 rows x 1 columns]\n"
     ]
    }
   ],
   "source": [
    "np.set_printoptions(threshold=np.inf)\n",
    "print(predict)"
   ]
  },
  {
   "cell_type": "code",
   "execution_count": 23,
   "metadata": {},
   "outputs": [
    {
     "name": "stdout",
     "output_type": "stream",
     "text": [
      "(25000, 1)\n"
     ]
    }
   ],
   "source": [
    "key = pd.DataFrame(lb['application_key'])\n",
    "# key = key.values\n",
    "print(key.shape)"
   ]
  },
  {
   "cell_type": "code",
   "execution_count": 24,
   "metadata": {},
   "outputs": [
    {
     "name": "stdout",
     "output_type": "stream",
     "text": [
      "   application_key  default_ind\n",
      "0           350053            0\n",
      "1           350054            0\n",
      "2           350055            0\n",
      "3           350056            1\n",
      "4           350057            0\n"
     ]
    }
   ],
   "source": [
    "pred = pd.DataFrame()\n",
    "pred['application_key'] = lb['application_key']\n",
    "pred['default_ind'] = predict\n",
    "print(pred.head())"
   ]
  },
  {
   "cell_type": "code",
   "execution_count": 25,
   "metadata": {},
   "outputs": [],
   "source": [
    "pred.to_csv(\"Analyzing_IITGuwahati_1.csv\")"
   ]
  },
  {
   "cell_type": "code",
   "execution_count": null,
   "metadata": {},
   "outputs": [],
   "source": []
  }
 ],
 "metadata": {
  "kernelspec": {
   "display_name": "Python 3",
   "language": "python",
   "name": "python3"
  },
  "language_info": {
   "codemirror_mode": {
    "name": "ipython",
    "version": 3
   },
   "file_extension": ".py",
   "mimetype": "text/x-python",
   "name": "python",
   "nbconvert_exporter": "python",
   "pygments_lexer": "ipython3",
   "version": "3.5.2"
  }
 },
 "nbformat": 4,
 "nbformat_minor": 2
}
